{
 "cells": [
  {
   "cell_type": "raw",
   "id": "8e0901a0-8201-4f9f-8ab0-48a350278e01",
   "metadata": {},
   "source": [
    "# FUNKCIJE IN METODE\n",
    "\n",
    "\n",
    "# Metode nizov\n",
    "#  Pri metodah nizov predvsem ne smemo pozabiti, da so le-ti nespremenljivi. Metode, kot je replace ne spreminjajo nizov, temveč vračajo nove nize."
   ]
  },
  {
   "cell_type": "code",
   "execution_count": 4,
   "id": "6d1c5bcc-792f-4525-bd33-267d4919ea8d",
   "metadata": {},
   "outputs": [],
   "source": [
    "s.startwith() "
   ]
  },
  {
   "cell_type": "code",
   "execution_count": null,
   "id": "7b57d6d1-6f60-4361-94aa-70b3cd3db4e4",
   "metadata": {},
   "outputs": [],
   "source": []
  }
 ],
 "metadata": {
  "kernelspec": {
   "display_name": "Python 3 (ipykernel)",
   "language": "python",
   "name": "python3"
  },
  "language_info": {
   "codemirror_mode": {
    "name": "ipython",
    "version": 3
   },
   "file_extension": ".py",
   "mimetype": "text/x-python",
   "name": "python",
   "nbconvert_exporter": "python",
   "pygments_lexer": "ipython3",
   "version": "3.11.6"
  }
 },
 "nbformat": 4,
 "nbformat_minor": 5
}
